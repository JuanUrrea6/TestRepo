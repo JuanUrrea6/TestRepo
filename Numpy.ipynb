{
 "cells": [
  {
   "cell_type": "code",
   "execution_count": 28,
   "id": "9f0d4576-eb14-4e15-ba3a-ee577880dc34",
   "metadata": {},
   "outputs": [],
   "source": [
    "import numpy as np\n",
    "import scipy"
   ]
  },
  {
   "cell_type": "markdown",
   "id": "56fe2f6d-af15-4eef-86b2-7cd148e6c9d3",
   "metadata": {},
   "source": [
    "We create two large matrices with random complex entries."
   ]
  },
  {
   "cell_type": "code",
   "execution_count": 3,
   "id": "a6c5e3da-4fe1-4596-a198-84085b58b08c",
   "metadata": {},
   "outputs": [],
   "source": [
    "N = 100\n",
    "A = np.random.rand(N,N) + 1j*np.random.rand(N,N)\n",
    "B = np.random.rand(N,N) + 1j*np.random.rand(N,N)"
   ]
  },
  {
   "cell_type": "markdown",
   "id": "012337b6-50c1-4bb6-aea0-20d3e66c8730",
   "metadata": {},
   "source": [
    "We want to calculate $C = AB$. "
   ]
  },
  {
   "cell_type": "markdown",
   "id": "ab76412f-b852-4c47-ab24-c000a78e015d",
   "metadata": {},
   "source": [
    "## Approach 1: Explicit matrix-matrix product"
   ]
  },
  {
   "cell_type": "code",
   "execution_count": 4,
   "id": "d9505bb1-3fb3-4b78-8e94-14f64cd2ecac",
   "metadata": {},
   "outputs": [],
   "source": [
    "def func1(A,B):\n",
    "    C = np.zeros((N,N),dtype=complex)\n",
    "    for i in range(N):\n",
    "        for j in range(N):\n",
    "            for k in range(N):\n",
    "                C[i,j] += A[i,k]*B[k,j]\n",
    "    return C"
   ]
  },
  {
   "cell_type": "markdown",
   "id": "6b4cdde4-4b5b-497b-a3d2-775c10711903",
   "metadata": {},
   "source": [
    "## Approach 2: Use Numpy's array multiplication."
   ]
  },
  {
   "cell_type": "code",
   "execution_count": 5,
   "id": "a73001bf-0301-4670-a62e-256eded00e65",
   "metadata": {},
   "outputs": [],
   "source": [
    "def func2(A,B):\n",
    "    return np.matmul(A,B)"
   ]
  },
  {
   "cell_type": "markdown",
   "id": "0c44faea-e10f-4535-baef-7ed9180214b1",
   "metadata": {},
   "source": [
    "## Approach 3: Use naive Einsum."
   ]
  },
  {
   "cell_type": "code",
   "execution_count": 6,
   "id": "c0d3656f-247d-403e-aa8b-73af059753e5",
   "metadata": {},
   "outputs": [],
   "source": [
    "def func3(A,B):\n",
    "    return np.einsum('ik,kj->ij',A,B, optimize=False)"
   ]
  },
  {
   "cell_type": "markdown",
   "id": "8253d163-9970-4603-b2c5-114a4de7aff7",
   "metadata": {},
   "source": [
    "## Approach 4: Use optimized Einsum"
   ]
  },
  {
   "cell_type": "code",
   "execution_count": 7,
   "id": "61d34202-4e4f-4921-942a-0c7498bb612f",
   "metadata": {},
   "outputs": [],
   "source": [
    "def func4(A,B):\n",
    "    return np.einsum('ik,kj->ij',A,B, optimize=True)"
   ]
  },
  {
   "cell_type": "markdown",
   "id": "afba9452-3327-429a-8e07-cbb7b0e6bd23",
   "metadata": {},
   "source": [
    "## Approach 5: Use wrapper for BLAS 3 routine"
   ]
  },
  {
   "cell_type": "code",
   "execution_count": 8,
   "id": "1cb8e820-9b74-4594-b132-5756cda362af",
   "metadata": {},
   "outputs": [],
   "source": [
    "def func5(A,B):\n",
    "    return scipy.linalg.blas.zgemm(A,B)"
   ]
  },
  {
   "cell_type": "markdown",
   "id": "6d021911-7a5b-477b-b127-8c64feb2ce0e",
   "metadata": {},
   "source": [
    "Now we can compare some timings"
   ]
  },
  {
   "cell_type": "code",
   "execution_count": 10,
   "id": "a714d9ea-9274-474d-8de2-e9cef15a82b0",
   "metadata": {},
   "outputs": [
    {
     "name": "stdout",
     "output_type": "stream",
     "text": [
      "153 ms ± 1.54 ms per loop (mean ± std. dev. of 7 runs, 10 loops each)\n"
     ]
    }
   ],
   "source": [
    "%timeit func1(A,B) # Explicit loops"
   ]
  },
  {
   "cell_type": "code",
   "execution_count": 11,
   "id": "ce8f91e1-5c2a-4bf3-b8a7-1fb2e1ad791a",
   "metadata": {},
   "outputs": [
    {
     "name": "stdout",
     "output_type": "stream",
     "text": [
      "31.9 μs ± 2.68 μs per loop (mean ± std. dev. of 7 runs, 10,000 loops each)\n"
     ]
    }
   ],
   "source": [
    "%timeit func2(A,B) # Numpy's"
   ]
  },
  {
   "cell_type": "code",
   "execution_count": 12,
   "id": "414bbb4a-b58b-4a5d-95ab-a78880a9bbe9",
   "metadata": {},
   "outputs": [
    {
     "name": "stdout",
     "output_type": "stream",
     "text": [
      "1.18 ms ± 3.53 μs per loop (mean ± std. dev. of 7 runs, 1,000 loops each)\n"
     ]
    }
   ],
   "source": [
    "%timeit func3(A,B) # Naive einsum"
   ]
  },
  {
   "cell_type": "code",
   "execution_count": 13,
   "id": "43b0bc7c-bc7c-4262-a8e2-961335ec3b13",
   "metadata": {},
   "outputs": [
    {
     "name": "stdout",
     "output_type": "stream",
     "text": [
      "57.2 μs ± 1.23 μs per loop (mean ± std. dev. of 7 runs, 10,000 loops each)\n"
     ]
    }
   ],
   "source": [
    "%timeit func4(A,B) # Optimized einsum"
   ]
  },
  {
   "cell_type": "code",
   "execution_count": 14,
   "id": "eb84d36c-6d77-4b41-b261-7809b6c36a85",
   "metadata": {},
   "outputs": [
    {
     "name": "stdout",
     "output_type": "stream",
     "text": [
      "59.3 μs ± 771 ns per loop (mean ± std. dev. of 7 runs, 10,000 loops each)\n"
     ]
    }
   ],
   "source": [
    "%timeit func4(A,B) #Wrapper for BLAS 3"
   ]
  },
  {
   "cell_type": "markdown",
   "id": "4be6fe54-01b0-44d0-bcd0-e27fa41b937a",
   "metadata": {},
   "source": [
    "All functions are calculating the same quantity, however not all of them are **optimized**!!"
   ]
  },
  {
   "cell_type": "markdown",
   "id": "4a08633e-a646-4a9b-8f25-f55fecf2fa38",
   "metadata": {},
   "source": [
    "Some optimizations are very technical and related to how the code is written to handle arrays in the memory. Others are much more straightforward and can/should be done at the level of our code. "
   ]
  },
  {
   "cell_type": "markdown",
   "id": "3042aa36-31b0-451f-b65c-798dc1cc1056",
   "metadata": {},
   "source": [
    "Now we create a matrix that has a clear structure."
   ]
  },
  {
   "cell_type": "code",
   "execution_count": 15,
   "id": "3ced98ce-ed7c-4ccf-937a-3d0483923b18",
   "metadata": {},
   "outputs": [],
   "source": [
    "A = np.diag(-2*np.ones((N)), 0) + np.diag(np.ones((N-1)), 1) + np.diag(np.ones((N-1)), -1)\n",
    "A[0,-1] = 1\n",
    "A[-1,0] = 1"
   ]
  },
  {
   "cell_type": "code",
   "execution_count": 16,
   "id": "077f91a4-74d3-48e1-8517-03c174e9ecc8",
   "metadata": {},
   "outputs": [
    {
     "name": "stdout",
     "output_type": "stream",
     "text": [
      "[[-2.  1.  0. ...  0.  0.  1.]\n",
      " [ 1. -2.  1. ...  0.  0.  0.]\n",
      " [ 0.  1. -2. ...  0.  0.  0.]\n",
      " ...\n",
      " [ 0.  0.  0. ... -2.  1.  0.]\n",
      " [ 0.  0.  0. ...  1. -2.  1.]\n",
      " [ 1.  0.  0. ...  0.  1. -2.]]\n"
     ]
    }
   ],
   "source": [
    "print(A)"
   ]
  },
  {
   "cell_type": "markdown",
   "id": "dae6f69d-4a5f-4eea-a446-7c06ae349543",
   "metadata": {},
   "source": [
    "How can we efficiently multiply this matrix with a vector?"
   ]
  },
  {
   "cell_type": "code",
   "execution_count": 25,
   "id": "2435e224-b559-4d04-bcf1-4403535f1218",
   "metadata": {},
   "outputs": [],
   "source": [
    "b = np.random.rand(N)"
   ]
  },
  {
   "cell_type": "markdown",
   "id": "5552e92c-87dc-49b2-ba3c-6b4131301cbb",
   "metadata": {},
   "source": [
    "## Approach 1: Explicit Matrix-vector product "
   ]
  },
  {
   "cell_type": "code",
   "execution_count": 18,
   "id": "401db5cf-1aa2-4c9c-ab7c-f28ffc7c8895",
   "metadata": {},
   "outputs": [],
   "source": [
    "def func1(A,x):\n",
    "    y = np.zeros((N,1))\n",
    "    for i in range(N):\n",
    "        for j in range(N):\n",
    "            y[i] += A[i,j]*x[j]\n",
    "    return y"
   ]
  },
  {
   "cell_type": "markdown",
   "id": "645a3e30-b6cb-4477-820c-a940471a1c2c",
   "metadata": {},
   "source": [
    "## Approach 2: Exploit the sparsity pattern."
   ]
  },
  {
   "cell_type": "code",
   "execution_count": 19,
   "id": "4e30c285-88dd-4989-9bbd-e5f394fd96a5",
   "metadata": {},
   "outputs": [],
   "source": [
    "def func2(x):\n",
    "    y = np.zeros((N,1))\n",
    "    i1 = np.roll(range(N),1)\n",
    "    i2 = np.roll(range(N),-1)\n",
    "    for i in range(N):\n",
    "        y[i] = -2*x[i] + x[i1[i]] + x[i2[i]]\n",
    "    return y"
   ]
  },
  {
   "cell_type": "markdown",
   "id": "b5562f69-6ef9-4836-b022-529ff2516ab9",
   "metadata": {},
   "source": [
    "## Approach 3: Use optimized Einsum."
   ]
  },
  {
   "cell_type": "code",
   "execution_count": 20,
   "id": "55848fff-8f66-4819-8fab-4162c8180c19",
   "metadata": {},
   "outputs": [],
   "source": [
    "def func3(A,x):\n",
    "    return np.einsum('ij,j->i',A,x)"
   ]
  },
  {
   "cell_type": "markdown",
   "id": "4bc51e52-f857-4c4b-a2c7-e9d910526e49",
   "metadata": {},
   "source": [
    "## Approach 4: Wrapper for BLAS 2"
   ]
  },
  {
   "cell_type": "code",
   "execution_count": 30,
   "id": "743086a1-2cb6-4156-8f19-d30a832efe78",
   "metadata": {},
   "outputs": [],
   "source": [
    "def func4(A,x):\n",
    "    return scipy.linalg.blas.zgemv(1.0,A,x)"
   ]
  },
  {
   "cell_type": "code",
   "execution_count": 22,
   "id": "ede31cf1-1cbe-472a-900d-30d518b6bb42",
   "metadata": {},
   "outputs": [
    {
     "name": "stdout",
     "output_type": "stream",
     "text": [
      "8.28 ms ± 17 μs per loop (mean ± std. dev. of 7 runs, 100 loops each)\n"
     ]
    }
   ],
   "source": [
    "%timeit func1(A,b) # Explicit loops"
   ]
  },
  {
   "cell_type": "code",
   "execution_count": 23,
   "id": "a509f676-1c04-48bc-9de3-d5bd347abb4c",
   "metadata": {},
   "outputs": [
    {
     "name": "stdout",
     "output_type": "stream",
     "text": [
      "107 μs ± 342 ns per loop (mean ± std. dev. of 7 runs, 10,000 loops each)\n"
     ]
    }
   ],
   "source": [
    "%timeit func2(b) # Implicit action"
   ]
  },
  {
   "cell_type": "code",
   "execution_count": 26,
   "id": "916e41cb-595d-43e2-9fa3-0799c19c57ff",
   "metadata": {},
   "outputs": [
    {
     "name": "stdout",
     "output_type": "stream",
     "text": [
      "2 μs ± 2.58 ns per loop (mean ± std. dev. of 7 runs, 100,000 loops each)\n"
     ]
    }
   ],
   "source": [
    "%timeit func3(A,b) # Optimized einsum"
   ]
  },
  {
   "cell_type": "code",
   "execution_count": 31,
   "id": "56992dcb-3816-4b9f-af93-002db18b94a5",
   "metadata": {},
   "outputs": [
    {
     "name": "stdout",
     "output_type": "stream",
     "text": [
      "22.7 μs ± 1.69 μs per loop (mean ± std. dev. of 7 runs, 10,000 loops each)\n"
     ]
    }
   ],
   "source": [
    "%timeit func4(A,b) # Wrapper for BLAS 2"
   ]
  },
  {
   "cell_type": "markdown",
   "id": "34d21cc9-f81e-491e-85e0-2d664e3248d2",
   "metadata": {},
   "source": [
    "Try larger $N$:"
   ]
  },
  {
   "cell_type": "code",
   "execution_count": 61,
   "id": "b419e6ac-0cf9-4cb8-84f2-842096b050ad",
   "metadata": {},
   "outputs": [],
   "source": [
    "N = 1000"
   ]
  },
  {
   "cell_type": "code",
   "execution_count": 76,
   "id": "56c7cbb5-507e-477a-97c3-f2642e436a90",
   "metadata": {},
   "outputs": [],
   "source": [
    "A = np.diag(-2*np.ones((N)), 0) + np.diag(np.ones((N-1)), 1) + np.diag(np.ones((N-1)), -1)\n",
    "A[0,-1] = 1\n",
    "A[-1,0] = 1\n",
    "b = np.random.rand(N)"
   ]
  },
  {
   "cell_type": "code",
   "execution_count": 77,
   "id": "ad53f88f-7b89-4150-aa1d-fd55e5bfc469",
   "metadata": {},
   "outputs": [
    {
     "name": "stdout",
     "output_type": "stream",
     "text": [
      "391 μs ± 2.65 μs per loop (mean ± std. dev. of 7 runs, 1,000 loops each)\n"
     ]
    }
   ],
   "source": [
    "%timeit func2(b)"
   ]
  },
  {
   "cell_type": "code",
   "execution_count": 79,
   "id": "8f1417df-c8ee-446d-811f-2589d93f24f3",
   "metadata": {},
   "outputs": [
    {
     "name": "stdout",
     "output_type": "stream",
     "text": [
      "174 μs ± 61.7 ns per loop (mean ± std. dev. of 7 runs, 10,000 loops each)\n"
     ]
    }
   ],
   "source": [
    "%timeit func3(A,b)"
   ]
  },
  {
   "cell_type": "markdown",
   "id": "a7e034d0-6389-4c13-825f-14cd8988daab",
   "metadata": {},
   "source": [
    "The performance of our optimized explicit loops starts getting close to the background-optimized function that does not exploit sparsity!"
   ]
  },
  {
   "cell_type": "markdown",
   "id": "92849d2a-8ece-4052-8a9d-f792eb5595bc",
   "metadata": {},
   "source": [
    "**Why not always use Numpy's matmul()?**\n",
    "\n",
    "Memory limitations!! We cannot store the matrices when they are too large, e.g. $N= 10^7$.\n",
    "\n",
    "But in our second example that is not a problem because the matrix is very sparse and structured, so it is very easy to write a function which returns its action on a vector."
   ]
  },
  {
   "cell_type": "markdown",
   "id": "8ed1d941-9196-4d75-9a32-bf2c54c7cc6e",
   "metadata": {},
   "source": [
    "** Why should we care about this type of performance? **\n",
    "\n",
    "**Many** problems can be formulated in terms of linear systems of the form $Ax = b$, where $A$ is an extremely large matrix and often times very sparse. We cannot afford to explicitly build and store $A$ to calculate $A^{-1}$ via Gaussian-Elimination!!\n",
    "\n",
    "We focus not on finding $A^{-1}$, but on finding $A^{-1}b$."
   ]
  },
  {
   "cell_type": "markdown",
   "id": "544a6901-ab9f-4612-9bd1-d8e680d801f5",
   "metadata": {},
   "source": [
    "Many **iterative methods** approximate $A^{-1}b$ as a polynomial of $P(A)$ acting on $b$, which is a very good approximation!"
   ]
  },
  {
   "cell_type": "markdown",
   "id": "23ac5151-801e-47c2-82bc-2d7cf6ca2db2",
   "metadata": {},
   "source": [
    "$A^{-1}b \\approx a_0 b + a_1 Ab + a_2 A^2 b + a_3 A^3 b + ...$"
   ]
  },
  {
   "cell_type": "markdown",
   "id": "d530bbd6-5628-4083-9a7f-a45556bd58fc",
   "metadata": {},
   "source": [
    "We need the operation of acting with A on a vector to be **very** efficient!!"
   ]
  },
  {
   "cell_type": "code",
   "execution_count": null,
   "id": "0fd9946e-3194-45bb-aa86-a86ecf134ec6",
   "metadata": {},
   "outputs": [],
   "source": []
  }
 ],
 "metadata": {
  "kernelspec": {
   "display_name": "Python 3 (ipykernel)",
   "language": "python",
   "name": "python3"
  },
  "language_info": {
   "codemirror_mode": {
    "name": "ipython",
    "version": 3
   },
   "file_extension": ".py",
   "mimetype": "text/x-python",
   "name": "python",
   "nbconvert_exporter": "python",
   "pygments_lexer": "ipython3",
   "version": "3.12.3"
  }
 },
 "nbformat": 4,
 "nbformat_minor": 5
}
